{
 "cells": [
  {
   "cell_type": "code",
   "execution_count": 9,
   "metadata": {},
   "outputs": [],
   "source": [
    "import warnings\n",
    "warnings.simplefilter(action='ignore', category=FutureWarning)\n",
    "\n",
    "import tensorflow as tf\n",
    "import os\n",
    "import cv2\n",
    "import imageio\n",
    "import numpy as np\n",
    "import pandas as pd\n",
    "from glob import glob\n",
    "from tqdm import tqdm\n",
    "from os.path import splitext, basename\n",
    "import matplotlib.pyplot as pl\n",
    "# %matplotlib"
   ]
  },
  {
   "cell_type": "markdown",
   "metadata": {},
   "source": [
    "# split original videos"
   ]
  },
  {
   "cell_type": "code",
   "execution_count": 3,
   "metadata": {},
   "outputs": [],
   "source": [
    "def single_video_frames(video):\n",
    "    frames = []\n",
    "    if os.path.splitext(video)[-1] != '.mov':\n",
    "        cap = cv2.VideoCapture(video)\n",
    "        frame_nb = int(cap.get(cv2.CAP_PROP_FRAME_COUNT))\n",
    "        i =  0\n",
    "        while i<frame_nb:\n",
    "            ret, frame = cap.read()\n",
    "            if not ret:\n",
    "                frames.append(np.zeros_like(frames[i-1]))\n",
    "                print(i)\n",
    "            else:\n",
    "                frames.append(frame[:,:,::-1])\n",
    "            i+=1\n",
    "        cap.release()\n",
    "    else:\n",
    "        reader = imageio.get_reader(video)\n",
    "        frames = [frame for frame in reader]\n",
    "        reader.close()\n",
    "    return np.asarray(frames)"
   ]
  },
  {
   "cell_type": "code",
   "execution_count": 4,
   "metadata": {},
   "outputs": [],
   "source": [
    "def all_replay_videos():\n",
    "    videos = [replay_videos(folder) for folder in ['train','devel','test']]\n",
    "    return sum(videos,[])\n",
    "\n",
    "def replay_videos(subfoloder='devel'):\n",
    "    '''\n",
    "    subfolder only accept one of ['train','test','devel']'''\n",
    "    real = 'E:/Xuhang/DataSet/ReplayAttackDatabase/replayattack-{}/{}/real/*.mov'.format(subfoloder,subfoloder)\n",
    "    fixd = 'E:/Xuhang/DataSet/ReplayAttackDatabase/replayattack-{}/{}/attack/fixed/*.mov'.format(subfoloder,subfoloder)\n",
    "    hand = 'E:/Xuhang/DataSet/ReplayAttackDatabase/replayattack-{}/{}/attack/hand/*.mov'.format(subfoloder,subfoloder)\n",
    "    return sum([glob(real),glob(fixd),glob(hand)],[])"
   ]
  },
  {
   "cell_type": "code",
   "execution_count": 5,
   "metadata": {},
   "outputs": [],
   "source": [
    "class Crop_face():\n",
    "    '''\n",
    "    this class is for recording face crop coordinates and crop_ratio of each sequence\n",
    "    -video name\n",
    "    -frame_nb: how many frames each mini face video will contain\n",
    "    -sub_video_nb: how many sub_video will be extracted\n",
    "    -sample_rate: interval of each sampled two frames\n",
    "    -suffix: if replayattack database 'mov', else 'avi'\n",
    "    '''\n",
    "    def __init__(self,video_name,frame_nb,sub_folder,video_list,sub_video_nb,sample_rate=1,suffix='mov'):\n",
    "        self.video_name = video_name\n",
    "        self.video_list = video_list\n",
    "        self.frame_nb = frame_nb\n",
    "        self.sub_video_nb = sub_video_nb\n",
    "        self.sample_rate = sample_rate\n",
    "        self.seed = 1994\n",
    "        self.sub_folder = sub_folder\n",
    "        self.face_name = self.video_name.replace('.{}'.format(suffix),'.face')\n",
    "\n",
    "    def single_video_landmarks(self):\n",
    "        '''\n",
    "        order: top-left-bottom-right\n",
    "        '''\n",
    "        df = pd.read_csv(self.face_name,header=None,delim_whitespace=True,names=['idx','left','top','width','height'])\n",
    "        face = pd.concat([df.top,df.left,df.top+df.height,df.left+df.width],axis=1).to_numpy()\n",
    "        return face\n",
    "    \n",
    "    def start_idx_of_input_frames(self):\n",
    "        '''\n",
    "        based on -sub_video_nb parameter, choose all first frame indexes, total number is sub_video_nb        \n",
    "        '''\n",
    "        coords = self.single_video_landmarks()\n",
    "        \n",
    "        # first limite first-frame choose range between first non-zero landmark frame to total_frames-frame_nb\n",
    "        \n",
    "        # detect first non-zero landmark frame\n",
    "        i = 0\n",
    "        while i<len(coords):\n",
    "            if coords[i].any():\n",
    "                break\n",
    "            else:\n",
    "                i += 1\n",
    "                \n",
    "        start_idx = i\n",
    "        candi_idxs = list(np.arange(start_idx,coords.shape[0]-self.frame_nb*self.sample_rate))\n",
    "        \n",
    "        # filter these frames that detect no face \n",
    "        candi_idxs = [idx for idx in candi_idxs if coords[idx:idx+self.frame_nb].any()]\n",
    "        \n",
    "        replace = True if len(candi_idxs)<=self.sub_video_nb else False\n",
    "        \n",
    "        np.random.seed(1994)\n",
    "        start_idx = np.random.choice(candi_idxs,self.sub_video_nb,replace=replace)\n",
    "        \n",
    "        return start_idx\n",
    "    \n",
    "    def chunk_face_ldmk(self,chunk):\n",
    "        '''\n",
    "        based on chunk frames face landmarks, find minimum value of top-left \n",
    "        meanwhile find maximum value of bottom-right corner\n",
    "        '''\n",
    "        # filter landmarks in this chunk which can not detect face\n",
    "        coords = np.array(list(filter(lambda x:x.any(), chunk)))\n",
    "        top, left = np.min(coords[:,0]),np.min(coords[:,1])\n",
    "        bottom,right = np.max(coords[:,2]),np.max(coords[:,3])\n",
    "        return top,left,bottom,right\n",
    "    \n",
    "    \n",
    "    def idx_loop(self):\n",
    "        '''\n",
    "        main part of this class, extract enough start frame index and coordinates of that chunk\n",
    "        '''\n",
    "        vd_idx = self.video_list.index(self.video_name)\n",
    "        label = 0 if 'Real' in self.video_name or 'real' in self.video_name else 1\n",
    "        \n",
    "        # find all reasonable start frame index\n",
    "        start_idxs = self.start_idx_of_input_frames()\n",
    "        \n",
    "        # unpack face landmarks\n",
    "        ldmarks = self.single_video_landmarks()\n",
    "        \n",
    "        info = []\n",
    "        for start_idx in start_idxs:\n",
    "            # choosed frame indexs in a chunk\n",
    "            choose_frames_idxs = [start_idx+int(idx*self.sample_rate) for idx in range(self.frame_nb)]\n",
    "            # face landmakrs of each choose frame\n",
    "            choose_frames_ldmk = ldmarks[choose_frames_idxs]\n",
    "            # minimum value of top-left and maximum value of bottom-right corner\n",
    "            chunk_ldmk = self.chunk_face_ldmk(chunk=choose_frames_ldmk)\n",
    "            info.append([self.sub_folder,'{:04}'.format(vd_idx),label,start_idx,chunk_ldmk[0],chunk_ldmk[1],chunk_ldmk[2],chunk_ldmk[-1]])\n",
    "        return info\n",
    "\n",
    "def save_to_csv(*args):\n",
    "    '''\n",
    "    -save_path\n",
    "    -frame_nb\n",
    "    -sample_rate\n",
    "    '''\n",
    "    save_path,frame_nb,sample_rate = args\n",
    "    if not os.path.exists(save_path): os.makedirs(save_path)\n",
    "        \n",
    "    videos = all_replay_videos()\n",
    "    videos_df = pd.DataFrame(videos)\n",
    "    videos_df.to_csv('replayattack_video_names_NO_EDITTING.csv')\n",
    "    \n",
    "    save_name = '{}/frames_{}_interval_{}'.format(save_path,frame_nb,sample_rate)\n",
    "    info_df = pd.DataFrame(columns=['sub_folder','video_index','real_spoof','start_idx','top','left','bottom','right'])\n",
    "    for video in tqdm(videos):\n",
    "        sub_video_nb = 100 if 'train_Real' in video else 20\n",
    "        sub_folder = 'train' if 'train' in video else 'test' if 'test' in video else 'devel'\n",
    "        crop = Crop_face(video_name=video,frame_nb=frame_nb,\n",
    "                         sub_folder=sub_folder,video_list=videos,\n",
    "                         sub_video_nb=sub_video_nb,\n",
    "                         sample_rate=sample_rate)\n",
    "        info = crop.idx_loop()\n",
    "        info = pd.DataFrame(info,columns=info_df.columns)\n",
    "        info_df = info_df.append(info)\n",
    "    info_df.to_csv(save_name+'.csv')"
   ]
  },
  {
   "cell_type": "code",
   "execution_count": 286,
   "metadata": {},
   "outputs": [
    {
     "name": "stderr",
     "output_type": "stream",
     "text": [
      "100%|██████████████████████████████████████████████████████████████████████████████| 1200/1200 [00:13<00:00, 86.04it/s]\n",
      "100%|██████████████████████████████████████████████████████████████████████████████| 1200/1200 [00:14<00:00, 83.67it/s]\n",
      "100%|██████████████████████████████████████████████████████████████████████████████| 1200/1200 [00:14<00:00, 83.00it/s]\n",
      "100%|██████████████████████████████████████████████████████████████████████████████| 1200/1200 [00:14<00:00, 74.76it/s]\n"
     ]
    }
   ],
   "source": [
    "for frame_nb in [4,6,8,10]:\n",
    "    save_to_csv('./replayattack-baseline/',frame_nb,1)"
   ]
  },
  {
   "cell_type": "code",
   "execution_count": 6,
   "metadata": {},
   "outputs": [
    {
     "name": "stderr",
     "output_type": "stream",
     "text": [
      "100%|██████████████████████████████████████████████████████████████████████████████| 1200/1200 [00:24<00:00, 48.28it/s]\n"
     ]
    }
   ],
   "source": [
    "save_to_csv('./replayattack-baseline/',12,1)"
   ]
  },
  {
   "cell_type": "markdown",
   "metadata": {},
   "source": [
    "# to tfrecord"
   ]
  },
  {
   "cell_type": "markdown",
   "metadata": {},
   "source": [
    "把视频地址编码存入CSV文件---Done!\n",
    "\n",
    "打乱训练集\n",
    "    -先提取每个csv文件的trainset的数据\n",
    "    -打乱训练集数据：分为两个阶段，第一阶段依据视频所属标签，第二阶段依据视频真假"
   ]
  },
  {
   "cell_type": "code",
   "execution_count": 105,
   "metadata": {},
   "outputs": [],
   "source": [
    "def data_to_tfrecord(total_video_crop_csv,to_file=None):\n",
    "    \"\"\"for each csv file contains train,test,devel information we write tfrecord of each subset, \n",
    "    first shuffle each subset, then in each subset write tfrecord line by line\"\"\"\n",
    "    def _pd_shuffle(df,sub_folder,seed=1994):\n",
    "        return df[df.sub_folder==sub_folder].sample(frac=1,random_state=seed)\n",
    "    \n",
    "    \"\"\"\n",
    "    extract key information, \n",
    "    frame_nb represents how many frames will be extracted in in each data point\n",
    "    interval represents the gap between two sampled frames\n",
    "    \"\"\"\n",
    "    frame_nb = int(basename(total_video_crop_csv).split('_')[1])\n",
    "    interval = int(basename(total_video_crop_csv).split('_')[-1].split('.')[0])\n",
    "    \n",
    "    df = pd.read_csv(total_video_crop_csv)\n",
    "    \n",
    "    \n",
    "    for subset_flag in ['train','devel','test']:\n",
    "        \"\"\"shuffle\"\"\"\n",
    "        shuffled_subset = _pd_shuffle(df,subset_flag)\n",
    "        \"\"\"write a tfrecord of each subset\"\"\"\n",
    "        subset_to_tfrecord(subset=shuffled_subset,\n",
    "                           subset_flag=subset_flag,\n",
    "                           frame_nb=frame_nb,\n",
    "                           interval=interval,\n",
    "                           to_file=to_file)\n",
    "\n",
    "def subset_to_tfrecord(subset,\n",
    "                       subset_flag,\n",
    "                       frame_nb,\n",
    "                       interval,\n",
    "                       total_vdname_csv=None,\n",
    "                       to_file=None,\n",
    "                       cvt_format=None,\n",
    "                       temp_length=None):\n",
    "    \"\"\"iterate over one of train test and devel set to get tfrecord,\n",
    "        subset shold be shuffled already with a type of pd.Dataframe\"\"\"\n",
    "    \n",
    "    if total_vdname_csv==None: \n",
    "        total_vdname_csv = 'E:/Xuhang/code/Graduation/replayattack_video_names_NO_EDITTING.csv'\n",
    "        \n",
    "    if to_file==None: to_file = 'E:/Xuhang/code/Graduation/replayattack-baseline/'\n",
    "    \n",
    "    if cvt_format==None: cvt_frmat='.jpg'\n",
    "        \n",
    "    video_list = list(pd.read_csv(total_vdname_csv).iloc[:,1].to_numpy())\n",
    "    \n",
    "    sample_nb = subset.shape[0] if temp_length is None else temp_length\n",
    "    \n",
    "    save_file = to_file+'frames-{}-{}-interval-{}-{}.tfrecord'.format(frame_nb,subset_flag,interval,sample_nb)\n",
    "    \n",
    "    with tf.python_io.TFRecordWriter(save_file) as writer: \n",
    "        for i in tqdm(range(sample_nb)):\n",
    "            line = subset.iloc[i]\n",
    "            video_name = video_list[int(line.video_index)]\n",
    "            line_example = line_to_example(line=line,\n",
    "                                          video_name=video_name,\n",
    "                                          frame_nb=frame_nb,\n",
    "                                          interval=interval,\n",
    "                                          cvt_fmt=cvt_format)\n",
    "            writer.write(line_example)\n",
    "        writer.close()\n",
    "\n",
    "def line_to_example(line,video_name,frame_nb,cvt_fmt,interval):\n",
    "    \"\"\"cvt one row of Dataframe to tfrecord serialized example\"\"\"\n",
    "    def _int64_feature(value):\n",
    "        return tf.train.Feature(int64_list=tf.train.Int64List(value=[value]))\n",
    "    def _bytes_feature(value):\n",
    "        return tf.train.Feature(bytes_list=tf.train.BytesList(value=[value]))\n",
    "    \n",
    "    def read_by_opencv(video_name,start_idx,frame_nb,interval):\n",
    "        cap = cv2.VideoCapture(video_name)\n",
    "        cap.set(cv2.CAP_PROP_POS_FRAMES,start_idx)\n",
    "        i,frames = 0,[]\n",
    "        while i < frame_nb:\n",
    "            ret, frame = cap.read()\n",
    "            i += 1\n",
    "            if i%interval==0:frames.append(frame[:,:,::-1])\n",
    "        cap.release()\n",
    "        return np.asarray(frames)\n",
    "    \n",
    "    def read_by_imageio(video_name,start_idx,frame_nb,interval):\n",
    "        reader = imageio.get_reader(video_name)\n",
    "        frames = [reader.get_data(i) for i in range(start_idx,start_idx+frame_nb*interval,interval)]\n",
    "        reader.close()\n",
    "        return np.asarray(frames)\n",
    "    \n",
    "    \"\"\"read video by start frame and extract frames by interval\"\"\"\n",
    "    def read_video_by_start_idx(video_name,start_idx,frame_nb,interval):\n",
    "        if '.mov' in video_name:\n",
    "            return read_by_imageio(video_name,start_idx,frame_nb,interval)\n",
    "        else:\n",
    "            try:\n",
    "                # cv2 read video faster than imageio but cv2 is not that stable\n",
    "                frames = read_by_opencv(video_name,start_idx,frame_nb,interval)\n",
    "            except:\n",
    "                frames = read_by_imageio(video_name,start_idx,frame_nb,interval)\n",
    "        return np.asarray(frames)\n",
    "    \n",
    "    \"\"\"convert information of each row from csv_file as tfrecord sample\"\"\"\n",
    "    frames = read_video_by_start_idx(video_name,line.start_idx,frame_nb,interval)\n",
    "    top,left,bottom,right = line.top,line.left,line.bottom,line.right\n",
    "    chunk_faces = frames[:,top:bottom,left:right]\n",
    "    \n",
    "    \n",
    "    line_feature = {}\n",
    "    line_feature['height'] = _int64_feature(chunk_faces.shape[1])\n",
    "    line_feature['width'] = _int64_feature(chunk_faces.shape[2])\n",
    "    line_feature['depth'] = _int64_feature(chunk_faces.shape[3])\n",
    "    line_feature['video_index'] = _int64_feature(int(line.video_index))\n",
    "    line_feature['start_idx'] = _int64_feature(line.start_idx)\n",
    "    line_feature['label'] = _int64_feature(line.real_spoof)\n",
    "    for count, face in enumerate(chunk_faces):\n",
    "        face_raw = face.tostring()\n",
    "        line_feature['frame/{:04d}'.format(count)] = _bytes_feature(face_raw)\n",
    "    \n",
    "    example = tf.train.Example(features=tf.train.Features(feature=line_feature))\n",
    "    return example.SerializeToString()"
   ]
  },
  {
   "cell_type": "code",
   "execution_count": null,
   "metadata": {},
   "outputs": [],
   "source": [
    "data_to_tfrecord(total_video_crop_csv='replayattack-baseline/frames_4_interval_1.csv')"
   ]
  },
  {
   "cell_type": "code",
   "execution_count": null,
   "metadata": {},
   "outputs": [],
   "source": [
    "from tfrecord import data_to_tfrecord\n",
    "data_to_tfrecord(total_video_crop_csv='replayattack-baseline/frames_12_interval_1.csv')"
   ]
  },
  {
   "cell_type": "markdown",
   "metadata": {},
   "source": [
    "# Decode"
   ]
  },
  {
   "cell_type": "code",
   "execution_count": 36,
   "metadata": {},
   "outputs": [],
   "source": [
    "def _decode_fn(filenames,\n",
    "               frame_nb=10,\n",
    "               batch_size=1,\n",
    "               normalize=False,\n",
    "               perform_shuffle=False, \n",
    "               repeat_count=None,\n",
    "               one_hot=False,\n",
    "               n_class=2):\n",
    "    '''\n",
    "    input:  filenames--tfrecord file name\n",
    "            perform_shuffle--True means shuffle, False means no shuffle\n",
    "            repeat_count--interger, repeat times in an epoch through the whole dataset, if None, forever loop through dataset\n",
    "            batch_size--no need to explain\n",
    "            fp_name--face points, only accept parameters from list of ['left_eye','right_eye','nose','left_mouth_corner','right_mouth_corner']\n",
    "    output: an tuple, has three values which are labels, facial points and video sequences\n",
    "            shape is (labels, facial pints, video sequences)\n",
    "            for each output, shape is (batch_size, XX.shape), XX means one of labels, fpoints and video sequences\n",
    "    '''\n",
    "    \n",
    "    \n",
    "    def decode_fn(serialized_example):\n",
    "        line_feature = {}\n",
    "        line_feature['label'] = tf.FixedLenFeature([], tf.int64)\n",
    "        line_feature['height'] = tf.FixedLenFeature([], tf.int64)\n",
    "        line_feature['width'] = tf.FixedLenFeature([], tf.int64)\n",
    "        line_feature['depth'] = tf.FixedLenFeature([], tf.int64)\n",
    "        for count in range(frame_nb):\n",
    "            line_feature['frame/{:04d}'.format(count)] = tf.FixedLenFeature([],tf.string)\n",
    "\n",
    "        parsed_features = tf.parse_single_example(serialized_example, line_feature)\n",
    "\n",
    "        label = parsed_features['label']\n",
    "        height = parsed_features['height']\n",
    "        width = parsed_features['width']\n",
    "        depth = parsed_features['depth']\n",
    "        \n",
    "        face_images = [tf.decode_raw(parsed_features['frame/{:04d}'.format(count)],tf.uint8) for count in range(frame_nb)]\n",
    "        face_images = [tf.reshape(face,[height,width,depth]) for face in face_images]\n",
    "        face_images = [tf.image.resize(face,(128,128),method=1) for face in face_images]\n",
    "\n",
    "        if one_hot and n_class: label = tf.one_hot(label,n_class)\n",
    "        return face_images, label\n",
    "\n",
    "    dataset = tf.data.TFRecordDataset(filenames=filenames)\n",
    "    \n",
    "    dataset = dataset.map(decode_fn)\n",
    "    if perform_shuffle: dataset = dataset.shuffle(buffer_size=calculate_filenb(filenames))\n",
    "    dataset = dataset.repeat(repeat_count)\n",
    "    dataset = dataset.batch(batch_size)  # Batch size to use\n",
    "    dataset = dataset.prefetch(8)\n",
    "    iterator = dataset.make_one_shot_iterator()\n",
    "    \n",
    "    return iterator.get_next()"
   ]
  },
  {
   "cell_type": "code",
   "execution_count": 37,
   "metadata": {},
   "outputs": [],
   "source": [
    "tfrecord = 'replayattack-baseline/frames-4-train-interval-1-100.tfrecord'"
   ]
  },
  {
   "cell_type": "code",
   "execution_count": 38,
   "metadata": {},
   "outputs": [],
   "source": [
    "func = _decode_fn(filenames=tfrecord,frame_nb=4,batch_size=32,repeat_count=1,one_hot=True)"
   ]
  },
  {
   "cell_type": "code",
   "execution_count": 39,
   "metadata": {},
   "outputs": [],
   "source": [
    "sess = tf.Session()"
   ]
  },
  {
   "cell_type": "code",
   "execution_count": 40,
   "metadata": {},
   "outputs": [],
   "source": [
    "faces, labels = sess.run(func)"
   ]
  },
  {
   "cell_type": "code",
   "execution_count": 41,
   "metadata": {},
   "outputs": [
    {
     "data": {
      "text/plain": [
       "<matplotlib.image.AxesImage at 0x268ccaee5c0>"
      ]
     },
     "execution_count": 41,
     "metadata": {},
     "output_type": "execute_result"
    },
    {
     "data": {
      "image/png": "[encoded data removed]",
      "text/plain": [
       "<Figure size 432x288 with 1 Axes>"
      ]
     },
     "metadata": {
      "needs_background": "light"
     },
     "output_type": "display_data"
    }
   ],
   "source": [
    "pl.imshow(faces[1][1])"
   ]
  },
  {
   "cell_type": "code",
   "execution_count": 52,
   "metadata": {},
   "outputs": [
    {
     "data": {
      "text/plain": [
       "<matplotlib.image.AxesImage at 0x268cfb8de48>"
      ]
     },
     "execution_count": 52,
     "metadata": {},
     "output_type": "execute_result"
    },
    {
     "data": {
      "image/png": "[encoded data removed]",
      "text/plain": [
       "<Figure size 432x288 with 1 Axes>"
      ]
     },
     "metadata": {
      "needs_background": "light"
     },
     "output_type": "display_data"
    }
   ],
   "source": [
    "pl.imshow(faces[8][1])"
   ]
  }
 ],
 "metadata": {
  "kernelspec": {
   "display_name": "Python 3",
   "language": "python",
   "name": "python3"
  },
  "language_info": {
   "codemirror_mode": {
    "name": "ipython",
    "version": 3
   },
   "file_extension": ".py",
   "mimetype": "text/x-python",
   "name": "python",
   "nbconvert_exporter": "python",
   "pygments_lexer": "ipython3",
   "version": "3.6.8"
  }
 },
 "nbformat": 4,
 "nbformat_minor": 4
}
